{
 "cells": [
  {
   "cell_type": "code",
   "execution_count": null,
   "metadata": {
    "_cell_guid": "b1076dfc-b9ad-4769-8c92-a6c4dae69d19",
    "_uuid": "8f2839f25d086af736a60e9eeb907d3b93b6e0e5"
   },
   "outputs": [],
   "source": [
    "# This Python 3 environment comes with many helpful analytics libraries installed\n",
    "# It is defined by the kaggle/python Docker image: https://github.com/kaggle/docker-python\n",
    "# For example, here's several helpful packages to load\n",
    "\n",
    "import numpy as np # linear algebra\n",
    "import pandas as pd # data processing, CSV file I/O (e.g. pd.read_csv)\n",
    "\n",
    "# Input data files are available in the read-only \"../input/\" directory\n",
    "# For example, running this (by clicking run or pressing Shift+Enter) will list all files under the input directory\n",
    "\n",
    "import os\n",
    "for dirname, _, filenames in os.walk('/kaggle/input'):\n",
    "    for filename in filenames:\n",
    "        print(os.path.join(dirname, filename))\n",
    "\n",
    "# You can write up to 20GB to the current directory (/kaggle/working/) that gets preserved as output when you create a version using \"Save & Run All\" \n",
    "# You can also write temporary files to /kaggle/temp/, but they won't be saved outside of the current session"
   ]
  },
  {
   "cell_type": "code",
   "execution_count": 2,
   "metadata": {
    "execution": {
     "iopub.execute_input": "2021-10-03T16:34:27.094167Z",
     "iopub.status.busy": "2021-10-03T16:34:27.093471Z",
     "iopub.status.idle": "2021-10-03T16:34:31.976519Z",
     "shell.execute_reply": "2021-10-03T16:34:31.975614Z",
     "shell.execute_reply.started": "2021-10-03T16:34:27.094096Z"
    }
   },
   "outputs": [],
   "source": [
    "import numpy as np\n",
    "import pandas as pd\n",
    "import matplotlib.pyplot as plt\n",
    "import seaborn as sns\n",
    "\n",
    "from sklearn.preprocessing import StandardScaler, PolynomialFeatures, OneHotEncoder,StandardScaler,PowerTransformer, MinMaxScaler, RobustScaler\n",
    "from sklearn.model_selection import KFold, cross_val_predict, train_test_split,GridSearchCV,cross_val_score\n",
    "from sklearn.linear_model import LinearRegression, Lasso, Ridge,ElasticNet\n",
    "from sklearn.metrics import r2_score,mean_squared_error\n",
    "from sklearn.pipeline import make_pipeline\n",
    "from sklearn.compose import make_column_transformer\n",
    "\n",
    "from sklearn.neighbors import KNeighborsRegressor\n",
    "from sklearn.svm import SVR\n",
    "\n",
    "\n",
    "from sklearn.ensemble import RandomForestRegressor,GradientBoostingRegressor, ExtraTreesRegressor\n",
    "from sklearn.feature_selection import SelectKBest,SelectPercentile,f_classif,f_regression,mutual_info_regression,mutual_info_classif,SelectFromModel,RFE\n",
    "\n",
    "from xgboost import XGBRegressor\n",
    "from xgboost import plot_importance\n",
    "\n",
    "\n",
    "import optuna\n",
    "\n",
    "#importing plotly and cufflinks in offline mode\n",
    "import cufflinks as cf\n",
    "import plotly.offline\n",
    "cf.go_offline()\n",
    "cf.set_config_file(offline=False, world_readable=True)\n",
    "\n",
    "import warnings\n",
    "warnings.filterwarnings('ignore')"
   ]
  },
  {
   "cell_type": "code",
   "execution_count": null,
   "metadata": {},
   "outputs": [],
   "source": []
  },
  {
   "cell_type": "code",
   "execution_count": 3,
   "metadata": {
    "execution": {
     "iopub.execute_input": "2021-10-03T16:34:36.688928Z",
     "iopub.status.busy": "2021-10-03T16:34:36.688579Z",
     "iopub.status.idle": "2021-10-03T16:34:36.747757Z",
     "shell.execute_reply": "2021-10-03T16:34:36.746771Z",
     "shell.execute_reply.started": "2021-10-03T16:34:36.688893Z"
    }
   },
   "outputs": [],
   "source": [
    "pd.set_option('max_columns',100)\n",
    "pd.set_option('max_rows',900)\n",
    "\n",
    "pd.set_option('max_colwidth',200)\n",
    "\n",
    "df = pd.read_csv('../input/stroke-prediction-dataset/healthcare-dataset-stroke-data.csv')\n",
    "df.head()"
   ]
  },
  {
   "cell_type": "code",
   "execution_count": 4,
   "metadata": {
    "execution": {
     "iopub.execute_input": "2021-10-03T16:41:54.624331Z",
     "iopub.status.busy": "2021-10-03T16:41:54.623991Z",
     "iopub.status.idle": "2021-10-03T16:41:54.631735Z",
     "shell.execute_reply": "2021-10-03T16:41:54.630955Z",
     "shell.execute_reply.started": "2021-10-03T16:41:54.624297Z"
    }
   },
   "outputs": [],
   "source": [
    "df.shape"
   ]
  },
  {
   "cell_type": "code",
   "execution_count": 5,
   "metadata": {
    "execution": {
     "iopub.execute_input": "2021-10-03T16:42:03.891734Z",
     "iopub.status.busy": "2021-10-03T16:42:03.891115Z",
     "iopub.status.idle": "2021-10-03T16:42:03.925433Z",
     "shell.execute_reply": "2021-10-03T16:42:03.924325Z",
     "shell.execute_reply.started": "2021-10-03T16:42:03.891685Z"
    }
   },
   "outputs": [],
   "source": [
    "df.info()"
   ]
  },
  {
   "cell_type": "code",
   "execution_count": 7,
   "metadata": {
    "execution": {
     "iopub.execute_input": "2021-10-03T16:44:38.479400Z",
     "iopub.status.busy": "2021-10-03T16:44:38.479075Z",
     "iopub.status.idle": "2021-10-03T16:44:38.493989Z",
     "shell.execute_reply": "2021-10-03T16:44:38.493001Z",
     "shell.execute_reply.started": "2021-10-03T16:44:38.479368Z"
    }
   },
   "outputs": [],
   "source": [
    "df.nunique()"
   ]
  },
  {
   "cell_type": "code",
   "execution_count": 10,
   "metadata": {
    "execution": {
     "iopub.execute_input": "2021-10-03T16:46:16.880509Z",
     "iopub.status.busy": "2021-10-03T16:46:16.879996Z",
     "iopub.status.idle": "2021-10-03T16:46:16.890821Z",
     "shell.execute_reply": "2021-10-03T16:46:16.889651Z",
     "shell.execute_reply.started": "2021-10-03T16:46:16.880464Z"
    }
   },
   "outputs": [],
   "source": [
    "#numerical = df.drop(['stroke'], axis= 1).select_dtypes('number').columns\n",
    "categorical = df.select_dtypes('object').columns\n",
    "\n",
    "#print(f'Numerical_Columns: {df[numerical].columns}')\n",
    "#print('\\n')\n",
    "print(f'Categorical_Columns: {df[categorical].columns}')"
   ]
  },
  {
   "cell_type": "code",
   "execution_count": 11,
   "metadata": {
    "execution": {
     "iopub.execute_input": "2021-10-03T16:47:02.079446Z",
     "iopub.status.busy": "2021-10-03T16:47:02.079097Z",
     "iopub.status.idle": "2021-10-03T16:47:02.090396Z",
     "shell.execute_reply": "2021-10-03T16:47:02.089111Z",
     "shell.execute_reply.started": "2021-10-03T16:47:02.079412Z"
    }
   },
   "outputs": [],
   "source": [
    "df.smoking_status.value_counts()"
   ]
  },
  {
   "cell_type": "code",
   "execution_count": 13,
   "metadata": {
    "execution": {
     "iopub.execute_input": "2021-10-03T16:52:23.191633Z",
     "iopub.status.busy": "2021-10-03T16:52:23.191321Z",
     "iopub.status.idle": "2021-10-03T16:52:23.202498Z",
     "shell.execute_reply": "2021-10-03T16:52:23.201128Z",
     "shell.execute_reply.started": "2021-10-03T16:52:23.191602Z"
    }
   },
   "outputs": [],
   "source": [
    "df.work_type.value_counts()"
   ]
  },
  {
   "cell_type": "code",
   "execution_count": 17,
   "metadata": {
    "execution": {
     "iopub.execute_input": "2021-10-03T16:55:22.898036Z",
     "iopub.status.busy": "2021-10-03T16:55:22.896823Z",
     "iopub.status.idle": "2021-10-03T16:55:23.472994Z",
     "shell.execute_reply": "2021-10-03T16:55:23.472425Z",
     "shell.execute_reply.started": "2021-10-03T16:55:22.897986Z"
    }
   },
   "outputs": [],
   "source": [
    "sns.heatmap(df.corr(), annot=True)"
   ]
  },
  {
   "cell_type": "code",
   "execution_count": 26,
   "metadata": {
    "execution": {
     "iopub.execute_input": "2021-10-03T16:59:36.533488Z",
     "iopub.status.busy": "2021-10-03T16:59:36.532757Z",
     "iopub.status.idle": "2021-10-03T16:59:36.537885Z",
     "shell.execute_reply": "2021-10-03T16:59:36.536964Z",
     "shell.execute_reply.started": "2021-10-03T16:59:36.533441Z"
    }
   },
   "outputs": [],
   "source": [
    "df=df.drop('id', axis=1)\n"
   ]
  },
  {
   "cell_type": "code",
   "execution_count": 25,
   "metadata": {
    "execution": {
     "iopub.execute_input": "2021-10-03T16:59:29.479234Z",
     "iopub.status.busy": "2021-10-03T16:59:29.478443Z",
     "iopub.status.idle": "2021-10-03T16:59:29.484586Z",
     "shell.execute_reply": "2021-10-03T16:59:29.483846Z",
     "shell.execute_reply.started": "2021-10-03T16:59:29.479200Z"
    }
   },
   "outputs": [],
   "source": [
    "df.columns"
   ]
  },
  {
   "cell_type": "code",
   "execution_count": 29,
   "metadata": {
    "execution": {
     "iopub.execute_input": "2021-10-03T17:00:43.744541Z",
     "iopub.status.busy": "2021-10-03T17:00:43.744219Z",
     "iopub.status.idle": "2021-10-03T17:00:43.758064Z",
     "shell.execute_reply": "2021-10-03T17:00:43.756971Z",
     "shell.execute_reply.started": "2021-10-03T17:00:43.744511Z"
    }
   },
   "outputs": [],
   "source": [
    "numerical = df.drop(['stroke'], axis= 1).select_dtypes('number').columns\n",
    "numerical"
   ]
  },
  {
   "cell_type": "code",
   "execution_count": 30,
   "metadata": {
    "execution": {
     "iopub.execute_input": "2021-10-03T17:01:06.865602Z",
     "iopub.status.busy": "2021-10-03T17:01:06.864486Z",
     "iopub.status.idle": "2021-10-03T17:01:07.839095Z",
     "shell.execute_reply": "2021-10-03T17:01:07.838158Z",
     "shell.execute_reply.started": "2021-10-03T17:01:06.865544Z"
    }
   },
   "outputs": [],
   "source": [
    "index = 0\n",
    "plt.figure(figsize=(20,20))\n",
    "for feature in df.select_dtypes('number').columns:\n",
    "    plt.figure()\n",
    "    plt.boxplot(df[feature],vert=False)\n",
    "    plt.ylabel(feature)\n",
    "    plt.show()"
   ]
  },
  {
   "cell_type": "code",
   "execution_count": null,
   "metadata": {},
   "outputs": [],
   "source": []
  },
  {
   "cell_type": "code",
   "execution_count": 31,
   "metadata": {
    "execution": {
     "iopub.execute_input": "2021-10-03T17:03:04.116582Z",
     "iopub.status.busy": "2021-10-03T17:03:04.116276Z",
     "iopub.status.idle": "2021-10-03T17:03:04.151350Z",
     "shell.execute_reply": "2021-10-03T17:03:04.150448Z",
     "shell.execute_reply.started": "2021-10-03T17:03:04.116542Z"
    }
   },
   "outputs": [],
   "source": [
    "df1 = pd.get_dummies(df, drop_first=True)\n",
    "df1.head()"
   ]
  },
  {
   "cell_type": "code",
   "execution_count": 34,
   "metadata": {
    "execution": {
     "iopub.execute_input": "2021-10-03T17:09:14.344934Z",
     "iopub.status.busy": "2021-10-03T17:09:14.344621Z",
     "iopub.status.idle": "2021-10-03T17:09:14.352349Z",
     "shell.execute_reply": "2021-10-03T17:09:14.351172Z",
     "shell.execute_reply.started": "2021-10-03T17:09:14.344902Z"
    }
   },
   "outputs": [],
   "source": [
    "df.shape"
   ]
  },
  {
   "cell_type": "code",
   "execution_count": 35,
   "metadata": {
    "execution": {
     "iopub.execute_input": "2021-10-03T17:09:32.500123Z",
     "iopub.status.busy": "2021-10-03T17:09:32.499844Z",
     "iopub.status.idle": "2021-10-03T17:09:32.513733Z",
     "shell.execute_reply": "2021-10-03T17:09:32.512747Z",
     "shell.execute_reply.started": "2021-10-03T17:09:32.500096Z"
    }
   },
   "outputs": [],
   "source": [
    "df.isnull().sum()"
   ]
  },
  {
   "cell_type": "code",
   "execution_count": 38,
   "metadata": {
    "execution": {
     "iopub.execute_input": "2021-10-03T17:17:38.303213Z",
     "iopub.status.busy": "2021-10-03T17:17:38.302878Z",
     "iopub.status.idle": "2021-10-03T17:17:38.313395Z",
     "shell.execute_reply": "2021-10-03T17:17:38.312149Z",
     "shell.execute_reply.started": "2021-10-03T17:17:38.303180Z"
    }
   },
   "outputs": [],
   "source": [
    "df.stroke.value_counts()"
   ]
  },
  {
   "cell_type": "code",
   "execution_count": 39,
   "metadata": {
    "execution": {
     "iopub.execute_input": "2021-10-03T17:21:26.640529Z",
     "iopub.status.busy": "2021-10-03T17:21:26.639704Z",
     "iopub.status.idle": "2021-10-03T17:21:26.648974Z",
     "shell.execute_reply": "2021-10-03T17:21:26.648285Z",
     "shell.execute_reply.started": "2021-10-03T17:21:26.640485Z"
    }
   },
   "outputs": [],
   "source": [
    "df[\"bmi\"].fillna(df.groupby([\"age\",'gender']).bmi.transform(\"mean\"), inplace=True)"
   ]
  },
  {
   "cell_type": "code",
   "execution_count": 41,
   "metadata": {
    "execution": {
     "iopub.execute_input": "2021-10-03T17:22:16.472825Z",
     "iopub.status.busy": "2021-10-03T17:22:16.472016Z",
     "iopub.status.idle": "2021-10-03T17:22:16.484903Z",
     "shell.execute_reply": "2021-10-03T17:22:16.484054Z",
     "shell.execute_reply.started": "2021-10-03T17:22:16.472780Z"
    }
   },
   "outputs": [],
   "source": [
    "df.isnull().sum()"
   ]
  },
  {
   "cell_type": "code",
   "execution_count": 48,
   "metadata": {
    "execution": {
     "iopub.execute_input": "2021-10-03T17:25:18.833137Z",
     "iopub.status.busy": "2021-10-03T17:25:18.832633Z",
     "iopub.status.idle": "2021-10-03T17:25:18.842356Z",
     "shell.execute_reply": "2021-10-03T17:25:18.841733Z",
     "shell.execute_reply.started": "2021-10-03T17:25:18.833104Z"
    }
   },
   "outputs": [],
   "source": [
    "df=df.dropna()"
   ]
  },
  {
   "cell_type": "code",
   "execution_count": 49,
   "metadata": {
    "execution": {
     "iopub.execute_input": "2021-10-03T17:25:23.652601Z",
     "iopub.status.busy": "2021-10-03T17:25:23.652182Z",
     "iopub.status.idle": "2021-10-03T17:25:23.663550Z",
     "shell.execute_reply": "2021-10-03T17:25:23.662812Z",
     "shell.execute_reply.started": "2021-10-03T17:25:23.652572Z"
    }
   },
   "outputs": [],
   "source": [
    "df.isnull().sum()"
   ]
  },
  {
   "cell_type": "code",
   "execution_count": 51,
   "metadata": {
    "execution": {
     "iopub.execute_input": "2021-10-03T17:27:08.383299Z",
     "iopub.status.busy": "2021-10-03T17:27:08.382946Z",
     "iopub.status.idle": "2021-10-03T17:27:08.393078Z",
     "shell.execute_reply": "2021-10-03T17:27:08.392479Z",
     "shell.execute_reply.started": "2021-10-03T17:27:08.383267Z"
    }
   },
   "outputs": [],
   "source": [
    "df.avg_glucose_level.sort_values()\n"
   ]
  },
  {
   "cell_type": "code",
   "execution_count": null,
   "metadata": {},
   "outputs": [],
   "source": [
    "LogisticRegression"
   ]
  },
  {
   "cell_type": "code",
   "execution_count": 52,
   "metadata": {
    "execution": {
     "iopub.execute_input": "2021-10-03T17:28:58.575119Z",
     "iopub.status.busy": "2021-10-03T17:28:58.574355Z",
     "iopub.status.idle": "2021-10-03T17:28:58.581329Z",
     "shell.execute_reply": "2021-10-03T17:28:58.580201Z",
     "shell.execute_reply.started": "2021-10-03T17:28:58.575076Z"
    }
   },
   "outputs": [],
   "source": [
    "df.shape"
   ]
  },
  {
   "cell_type": "code",
   "execution_count": 54,
   "metadata": {
    "execution": {
     "iopub.execute_input": "2021-10-03T17:32:18.972200Z",
     "iopub.status.busy": "2021-10-03T17:32:18.971880Z",
     "iopub.status.idle": "2021-10-03T17:32:19.007123Z",
     "shell.execute_reply": "2021-10-03T17:32:19.005848Z",
     "shell.execute_reply.started": "2021-10-03T17:32:18.972167Z"
    }
   },
   "outputs": [],
   "source": [
    "df = pd.get_dummies(df, drop_first=True)\n",
    "df.head()"
   ]
  },
  {
   "cell_type": "code",
   "execution_count": 55,
   "metadata": {
    "execution": {
     "iopub.execute_input": "2021-10-03T17:32:44.745342Z",
     "iopub.status.busy": "2021-10-03T17:32:44.744998Z",
     "iopub.status.idle": "2021-10-03T17:32:44.751468Z",
     "shell.execute_reply": "2021-10-03T17:32:44.750354Z",
     "shell.execute_reply.started": "2021-10-03T17:32:44.745310Z"
    }
   },
   "outputs": [],
   "source": [
    "df2=df.copy()"
   ]
  },
  {
   "cell_type": "markdown",
   "metadata": {},
   "source": [
    "## LogisticRegression"
   ]
  },
  {
   "cell_type": "code",
   "execution_count": 66,
   "metadata": {
    "execution": {
     "iopub.execute_input": "2021-10-03T17:41:28.153518Z",
     "iopub.status.busy": "2021-10-03T17:41:28.153223Z",
     "iopub.status.idle": "2021-10-03T17:41:28.158348Z",
     "shell.execute_reply": "2021-10-03T17:41:28.157581Z",
     "shell.execute_reply.started": "2021-10-03T17:41:28.153490Z"
    }
   },
   "outputs": [],
   "source": [
    "from sklearn.linear_model import LogisticRegression\n",
    "from sklearn.model_selection import GridSearchCV\n",
    "from sklearn.metrics import accuracy_score, confusion_matrix, classification_report, plot_confusion_matrix\n",
    "from sklearn.metrics import plot_roc_curve, plot_precision_recall_curve, roc_auc_score, auc, roc_curve"
   ]
  },
  {
   "cell_type": "code",
   "execution_count": 94,
   "metadata": {
    "execution": {
     "iopub.execute_input": "2021-10-03T17:54:44.793203Z",
     "iopub.status.busy": "2021-10-03T17:54:44.792858Z",
     "iopub.status.idle": "2021-10-03T17:54:44.807073Z",
     "shell.execute_reply": "2021-10-03T17:54:44.805953Z",
     "shell.execute_reply.started": "2021-10-03T17:54:44.793170Z"
    }
   },
   "outputs": [],
   "source": [
    "X= df.drop('stroke', axis=1)\n",
    "y= df['stroke']\n",
    "\n",
    "X_train, X_test, y_train, y_test = train_test_split(X, y, test_size=0.2, random_state=42)\n"
   ]
  },
  {
   "cell_type": "code",
   "execution_count": 95,
   "metadata": {
    "execution": {
     "iopub.execute_input": "2021-10-03T17:54:47.104457Z",
     "iopub.status.busy": "2021-10-03T17:54:47.104165Z",
     "iopub.status.idle": "2021-10-03T17:54:47.109147Z",
     "shell.execute_reply": "2021-10-03T17:54:47.108327Z",
     "shell.execute_reply.started": "2021-10-03T17:54:47.104426Z"
    }
   },
   "outputs": [],
   "source": [
    "scaler = MinMaxScaler()"
   ]
  },
  {
   "cell_type": "code",
   "execution_count": 96,
   "metadata": {
    "execution": {
     "iopub.execute_input": "2021-10-03T17:54:49.431631Z",
     "iopub.status.busy": "2021-10-03T17:54:49.431340Z",
     "iopub.status.idle": "2021-10-03T17:54:49.445048Z",
     "shell.execute_reply": "2021-10-03T17:54:49.444150Z",
     "shell.execute_reply.started": "2021-10-03T17:54:49.431600Z"
    }
   },
   "outputs": [],
   "source": [
    "X_train_scaled = scaler.fit_transform(X_train)\n",
    "X_test_scaled = scaler.transform(X_test)"
   ]
  },
  {
   "cell_type": "code",
   "execution_count": 97,
   "metadata": {
    "execution": {
     "iopub.execute_input": "2021-10-03T17:54:51.318242Z",
     "iopub.status.busy": "2021-10-03T17:54:51.317150Z",
     "iopub.status.idle": "2021-10-03T17:54:51.324062Z",
     "shell.execute_reply": "2021-10-03T17:54:51.322546Z",
     "shell.execute_reply.started": "2021-10-03T17:54:51.318186Z"
    }
   },
   "outputs": [],
   "source": [
    "log_model = LogisticRegression(class_weight = \"balanced\")"
   ]
  },
  {
   "cell_type": "code",
   "execution_count": 98,
   "metadata": {
    "execution": {
     "iopub.execute_input": "2021-10-03T17:54:52.792131Z",
     "iopub.status.busy": "2021-10-03T17:54:52.791083Z",
     "iopub.status.idle": "2021-10-03T17:54:52.992703Z",
     "shell.execute_reply": "2021-10-03T17:54:52.991803Z",
     "shell.execute_reply.started": "2021-10-03T17:54:52.792080Z"
    }
   },
   "outputs": [],
   "source": [
    "log_model.fit(X_train_scaled,y_train)\n",
    "y_pred = log_model.predict(X_test_scaled)\n",
    "y_pred"
   ]
  },
  {
   "cell_type": "code",
   "execution_count": 65,
   "metadata": {
    "execution": {
     "iopub.execute_input": "2021-10-03T17:37:26.202239Z",
     "iopub.status.busy": "2021-10-03T17:37:26.201913Z",
     "iopub.status.idle": "2021-10-03T17:37:26.220014Z",
     "shell.execute_reply": "2021-10-03T17:37:26.219091Z",
     "shell.execute_reply.started": "2021-10-03T17:37:26.202209Z"
    }
   },
   "outputs": [],
   "source": [
    "#Test_Size = 0.3 ile\n",
    "#print(confusion_matrix(y_test, y_pred))\n",
    "#print(classification_report(y_test, y_pred))"
   ]
  },
  {
   "cell_type": "code",
   "execution_count": 99,
   "metadata": {
    "execution": {
     "iopub.execute_input": "2021-10-03T17:55:24.729397Z",
     "iopub.status.busy": "2021-10-03T17:55:24.729127Z",
     "iopub.status.idle": "2021-10-03T17:55:24.746458Z",
     "shell.execute_reply": "2021-10-03T17:55:24.745429Z",
     "shell.execute_reply.started": "2021-10-03T17:55:24.729371Z"
    }
   },
   "outputs": [],
   "source": [
    "#TEST_SIZE =0.2 ILE\n",
    "\n",
    "print(confusion_matrix(y_test, y_pred))\n",
    "print(classification_report(y_test, y_pred))"
   ]
  },
  {
   "cell_type": "code",
   "execution_count": 100,
   "metadata": {
    "execution": {
     "iopub.execute_input": "2021-10-03T17:56:06.519536Z",
     "iopub.status.busy": "2021-10-03T17:56:06.519184Z",
     "iopub.status.idle": "2021-10-03T17:56:06.528790Z",
     "shell.execute_reply": "2021-10-03T17:56:06.527786Z",
     "shell.execute_reply.started": "2021-10-03T17:56:06.519504Z"
    }
   },
   "outputs": [],
   "source": [
    "y_pred_proba = log_model.predict_proba(X_test_scaled)"
   ]
  },
  {
   "cell_type": "code",
   "execution_count": 101,
   "metadata": {
    "execution": {
     "iopub.execute_input": "2021-10-03T17:56:09.191513Z",
     "iopub.status.busy": "2021-10-03T17:56:09.191153Z",
     "iopub.status.idle": "2021-10-03T17:56:09.199073Z",
     "shell.execute_reply": "2021-10-03T17:56:09.197956Z",
     "shell.execute_reply.started": "2021-10-03T17:56:09.191478Z"
    }
   },
   "outputs": [],
   "source": [
    "fp_rate, tp_rate, thresholds = roc_curve(y_test, y_pred_proba[:,1])"
   ]
  },
  {
   "cell_type": "code",
   "execution_count": 102,
   "metadata": {
    "execution": {
     "iopub.execute_input": "2021-10-03T17:56:12.040384Z",
     "iopub.status.busy": "2021-10-03T17:56:12.039473Z",
     "iopub.status.idle": "2021-10-03T17:56:12.047883Z",
     "shell.execute_reply": "2021-10-03T17:56:12.046583Z",
     "shell.execute_reply.started": "2021-10-03T17:56:12.040319Z"
    }
   },
   "outputs": [],
   "source": [
    "optimal_idx = np.argmax(tp_rate - fp_rate)\n",
    "optimal_threshold = thresholds[optimal_idx]\n",
    "optimal_threshold"
   ]
  },
  {
   "cell_type": "code",
   "execution_count": 103,
   "metadata": {
    "execution": {
     "iopub.execute_input": "2021-10-03T17:56:17.145299Z",
     "iopub.status.busy": "2021-10-03T17:56:17.144970Z",
     "iopub.status.idle": "2021-10-03T17:56:17.153925Z",
     "shell.execute_reply": "2021-10-03T17:56:17.152892Z",
     "shell.execute_reply.started": "2021-10-03T17:56:17.145268Z"
    }
   },
   "outputs": [],
   "source": [
    "test_data = pd.concat([X_test, y_test], axis=1)"
   ]
  },
  {
   "cell_type": "code",
   "execution_count": 104,
   "metadata": {
    "execution": {
     "iopub.execute_input": "2021-10-03T17:56:18.919478Z",
     "iopub.status.busy": "2021-10-03T17:56:18.919164Z",
     "iopub.status.idle": "2021-10-03T17:56:18.925537Z",
     "shell.execute_reply": "2021-10-03T17:56:18.924740Z",
     "shell.execute_reply.started": "2021-10-03T17:56:18.919446Z"
    }
   },
   "outputs": [],
   "source": [
    "test_data[\"pred_proba\"] = y_pred_proba[:,1]"
   ]
  },
  {
   "cell_type": "code",
   "execution_count": 105,
   "metadata": {
    "execution": {
     "iopub.execute_input": "2021-10-03T17:56:21.170867Z",
     "iopub.status.busy": "2021-10-03T17:56:21.170273Z",
     "iopub.status.idle": "2021-10-03T17:56:21.176226Z",
     "shell.execute_reply": "2021-10-03T17:56:21.175280Z",
     "shell.execute_reply.started": "2021-10-03T17:56:21.170830Z"
    }
   },
   "outputs": [],
   "source": [
    "test_data[\"pred\"] = y_pred"
   ]
  },
  {
   "cell_type": "code",
   "execution_count": 106,
   "metadata": {
    "execution": {
     "iopub.execute_input": "2021-10-03T17:56:24.902871Z",
     "iopub.status.busy": "2021-10-03T17:56:24.902592Z",
     "iopub.status.idle": "2021-10-03T17:56:24.913654Z",
     "shell.execute_reply": "2021-10-03T17:56:24.912692Z",
     "shell.execute_reply.started": "2021-10-03T17:56:24.902843Z"
    }
   },
   "outputs": [],
   "source": [
    "test_data[\"pred2\"] = test_data[\"pred_proba\"].apply(lambda x : 1 if x >= optimal_threshold else 0)"
   ]
  },
  {
   "cell_type": "code",
   "execution_count": 107,
   "metadata": {
    "execution": {
     "iopub.execute_input": "2021-10-03T17:56:27.928730Z",
     "iopub.status.busy": "2021-10-03T17:56:27.927696Z",
     "iopub.status.idle": "2021-10-03T17:56:27.932981Z",
     "shell.execute_reply": "2021-10-03T17:56:27.932360Z",
     "shell.execute_reply.started": "2021-10-03T17:56:27.928686Z"
    }
   },
   "outputs": [],
   "source": [
    "y_pred2 = test_data[\"pred2\"]"
   ]
  },
  {
   "cell_type": "code",
   "execution_count": 79,
   "metadata": {
    "execution": {
     "iopub.execute_input": "2021-10-03T17:46:49.552318Z",
     "iopub.status.busy": "2021-10-03T17:46:49.551994Z",
     "iopub.status.idle": "2021-10-03T17:46:49.572113Z",
     "shell.execute_reply": "2021-10-03T17:46:49.570798Z",
     "shell.execute_reply.started": "2021-10-03T17:46:49.552286Z"
    }
   },
   "outputs": [],
   "source": [
    "print(confusion_matrix(y_test,y_pred))\n",
    "print(classification_report(y_test,y_pred))"
   ]
  },
  {
   "cell_type": "code",
   "execution_count": 108,
   "metadata": {
    "execution": {
     "iopub.execute_input": "2021-10-03T17:56:34.957248Z",
     "iopub.status.busy": "2021-10-03T17:56:34.956411Z",
     "iopub.status.idle": "2021-10-03T17:56:34.969748Z",
     "shell.execute_reply": "2021-10-03T17:56:34.969107Z",
     "shell.execute_reply.started": "2021-10-03T17:56:34.957213Z"
    }
   },
   "outputs": [],
   "source": [
    "print(confusion_matrix(y_test,y_pred2))\n",
    "print(classification_report(y_test,y_pred2))"
   ]
  },
  {
   "cell_type": "code",
   "execution_count": null,
   "metadata": {},
   "outputs": [],
   "source": []
  },
  {
   "cell_type": "markdown",
   "metadata": {},
   "source": [
    "## KNN"
   ]
  },
  {
   "cell_type": "code",
   "execution_count": 90,
   "metadata": {
    "execution": {
     "iopub.execute_input": "2021-10-03T17:53:27.718307Z",
     "iopub.status.busy": "2021-10-03T17:53:27.717981Z",
     "iopub.status.idle": "2021-10-03T17:53:27.722807Z",
     "shell.execute_reply": "2021-10-03T17:53:27.722043Z",
     "shell.execute_reply.started": "2021-10-03T17:53:27.718278Z"
    }
   },
   "outputs": [],
   "source": [
    "from sklearn.neighbors import KNeighborsClassifier"
   ]
  },
  {
   "cell_type": "code",
   "execution_count": 91,
   "metadata": {
    "execution": {
     "iopub.execute_input": "2021-10-03T17:53:35.761008Z",
     "iopub.status.busy": "2021-10-03T17:53:35.760656Z",
     "iopub.status.idle": "2021-10-03T17:53:35.765861Z",
     "shell.execute_reply": "2021-10-03T17:53:35.764613Z",
     "shell.execute_reply.started": "2021-10-03T17:53:35.760973Z"
    }
   },
   "outputs": [],
   "source": [
    "from sklearn.model_selection import GridSearchCV"
   ]
  },
  {
   "cell_type": "code",
   "execution_count": 119,
   "metadata": {
    "execution": {
     "iopub.execute_input": "2021-10-03T18:05:05.280768Z",
     "iopub.status.busy": "2021-10-03T18:05:05.280448Z",
     "iopub.status.idle": "2021-10-03T18:05:05.285562Z",
     "shell.execute_reply": "2021-10-03T18:05:05.284499Z",
     "shell.execute_reply.started": "2021-10-03T18:05:05.280737Z"
    }
   },
   "outputs": [],
   "source": [
    "knn_grid = KNeighborsClassifier()"
   ]
  },
  {
   "cell_type": "code",
   "execution_count": 120,
   "metadata": {
    "execution": {
     "iopub.execute_input": "2021-10-03T18:05:05.991447Z",
     "iopub.status.busy": "2021-10-03T18:05:05.991122Z",
     "iopub.status.idle": "2021-10-03T18:05:05.995541Z",
     "shell.execute_reply": "2021-10-03T18:05:05.994886Z",
     "shell.execute_reply.started": "2021-10-03T18:05:05.991417Z"
    }
   },
   "outputs": [],
   "source": [
    "k_values= range(1,30)"
   ]
  },
  {
   "cell_type": "code",
   "execution_count": 121,
   "metadata": {
    "execution": {
     "iopub.execute_input": "2021-10-03T18:05:06.724633Z",
     "iopub.status.busy": "2021-10-03T18:05:06.724210Z",
     "iopub.status.idle": "2021-10-03T18:05:06.728959Z",
     "shell.execute_reply": "2021-10-03T18:05:06.728134Z",
     "shell.execute_reply.started": "2021-10-03T18:05:06.724602Z"
    }
   },
   "outputs": [],
   "source": [
    "param_grid = {\"n_neighbors\":k_values, \"p\": [1,2], \"weights\": ['uniform', \"distance\"]}"
   ]
  },
  {
   "cell_type": "code",
   "execution_count": 122,
   "metadata": {
    "execution": {
     "iopub.execute_input": "2021-10-03T18:05:07.439889Z",
     "iopub.status.busy": "2021-10-03T18:05:07.438799Z",
     "iopub.status.idle": "2021-10-03T18:05:07.444770Z",
     "shell.execute_reply": "2021-10-03T18:05:07.443869Z",
     "shell.execute_reply.started": "2021-10-03T18:05:07.439835Z"
    }
   },
   "outputs": [],
   "source": [
    "knn_grid_model = GridSearchCV(knn_grid, param_grid, cv=10, scoring= 'accuracy')"
   ]
  },
  {
   "cell_type": "code",
   "execution_count": 124,
   "metadata": {
    "execution": {
     "iopub.execute_input": "2021-10-03T18:06:32.464288Z",
     "iopub.status.busy": "2021-10-03T18:06:32.464053Z",
     "iopub.status.idle": "2021-10-03T18:07:28.998834Z",
     "shell.execute_reply": "2021-10-03T18:07:28.997840Z",
     "shell.execute_reply.started": "2021-10-03T18:06:32.464260Z"
    }
   },
   "outputs": [],
   "source": [
    "knn_grid_model.fit(X_train_scaled, y_train)"
   ]
  },
  {
   "cell_type": "code",
   "execution_count": 127,
   "metadata": {
    "execution": {
     "iopub.execute_input": "2021-10-03T18:09:04.801796Z",
     "iopub.status.busy": "2021-10-03T18:09:04.800929Z",
     "iopub.status.idle": "2021-10-03T18:09:04.809150Z",
     "shell.execute_reply": "2021-10-03T18:09:04.808326Z",
     "shell.execute_reply.started": "2021-10-03T18:09:04.801757Z"
    }
   },
   "outputs": [],
   "source": [
    "knn_grid_model.best_params_"
   ]
  },
  {
   "cell_type": "code",
   "execution_count": 128,
   "metadata": {
    "execution": {
     "iopub.execute_input": "2021-10-03T18:09:05.811106Z",
     "iopub.status.busy": "2021-10-03T18:09:05.810174Z",
     "iopub.status.idle": "2021-10-03T18:09:05.962198Z",
     "shell.execute_reply": "2021-10-03T18:09:05.961545Z",
     "shell.execute_reply.started": "2021-10-03T18:09:05.811052Z"
    }
   },
   "outputs": [],
   "source": [
    "knn = KNeighborsClassifier(n_neighbors=7, p =2)\n",
    "\n",
    "knn.fit(X_train_scaled,y_train)\n",
    "pred = knn.predict(X_test_scaled)\n",
    "\n",
    "print('WITH K=21')\n",
    "print('\\n')\n",
    "print(confusion_matrix(y_test, pred))\n",
    "print('\\n')\n",
    "print(classification_report(y_test, pred))"
   ]
  },
  {
   "cell_type": "code",
   "execution_count": 125,
   "metadata": {
    "execution": {
     "iopub.execute_input": "2021-10-03T18:08:28.595356Z",
     "iopub.status.busy": "2021-10-03T18:08:28.595069Z",
     "iopub.status.idle": "2021-10-03T18:08:32.172847Z",
     "shell.execute_reply": "2021-10-03T18:08:32.171859Z",
     "shell.execute_reply.started": "2021-10-03T18:08:28.595327Z"
    }
   },
   "outputs": [],
   "source": [
    "test_error_rates = []\n",
    "\n",
    "\n",
    "for k in range(1,30):\n",
    "    knn_model = KNeighborsClassifier(n_neighbors=k)\n",
    "    knn_model.fit(X_train_scaled,y_train) \n",
    "   \n",
    "    y_pred_test = knn_model.predict(X_test_scaled)\n",
    "    \n",
    "    test_error = 1 - accuracy_score(y_test,y_pred_test)\n",
    "    test_error_rates.append(test_error)"
   ]
  },
  {
   "cell_type": "code",
   "execution_count": 126,
   "metadata": {
    "execution": {
     "iopub.execute_input": "2021-10-03T18:08:36.277744Z",
     "iopub.status.busy": "2021-10-03T18:08:36.276950Z",
     "iopub.status.idle": "2021-10-03T18:08:36.694630Z",
     "shell.execute_reply": "2021-10-03T18:08:36.693759Z",
     "shell.execute_reply.started": "2021-10-03T18:08:36.277649Z"
    }
   },
   "outputs": [],
   "source": [
    "plt.figure(figsize=(10,6),dpi=200)\n",
    "plt.plot(range(1,30),test_error_rates,label='Test Error')\n",
    "plt.legend()\n",
    "plt.ylabel('Error Rate')\n",
    "plt.xlabel(\"K Value\")"
   ]
  },
  {
   "cell_type": "markdown",
   "metadata": {},
   "source": [
    "## ROC"
   ]
  },
  {
   "cell_type": "code",
   "execution_count": 129,
   "metadata": {
    "execution": {
     "iopub.execute_input": "2021-10-03T18:10:07.984148Z",
     "iopub.status.busy": "2021-10-03T18:10:07.983822Z",
     "iopub.status.idle": "2021-10-03T18:10:07.988982Z",
     "shell.execute_reply": "2021-10-03T18:10:07.988232Z",
     "shell.execute_reply.started": "2021-10-03T18:10:07.984116Z"
    }
   },
   "outputs": [],
   "source": [
    "from sklearn.metrics import precision_recall_curve, plot_precision_recall_curve, plot_roc_curve, roc_auc_score, roc_curve"
   ]
  },
  {
   "cell_type": "code",
   "execution_count": 135,
   "metadata": {
    "execution": {
     "iopub.execute_input": "2021-10-03T18:11:47.184565Z",
     "iopub.status.busy": "2021-10-03T18:11:47.184094Z",
     "iopub.status.idle": "2021-10-03T18:11:47.207558Z",
     "shell.execute_reply": "2021-10-03T18:11:47.206549Z",
     "shell.execute_reply.started": "2021-10-03T18:11:47.184533Z"
    }
   },
   "outputs": [],
   "source": [
    "knn_model = KNeighborsClassifier(n_neighbors=7).fit(X_train_scaled, y_train)"
   ]
  },
  {
   "cell_type": "code",
   "execution_count": 136,
   "metadata": {
    "execution": {
     "iopub.execute_input": "2021-10-03T18:11:48.400111Z",
     "iopub.status.busy": "2021-10-03T18:11:48.399823Z",
     "iopub.status.idle": "2021-10-03T18:11:48.408421Z",
     "shell.execute_reply": "2021-10-03T18:11:48.407348Z",
     "shell.execute_reply.started": "2021-10-03T18:11:48.400084Z"
    }
   },
   "outputs": [],
   "source": [
    "accuracy_score(y_test,y_pred)"
   ]
  },
  {
   "cell_type": "code",
   "execution_count": 137,
   "metadata": {
    "execution": {
     "iopub.execute_input": "2021-10-03T18:11:49.510140Z",
     "iopub.status.busy": "2021-10-03T18:11:49.509262Z",
     "iopub.status.idle": "2021-10-03T18:11:49.518366Z",
     "shell.execute_reply": "2021-10-03T18:11:49.517756Z",
     "shell.execute_reply.started": "2021-10-03T18:11:49.510099Z"
    }
   },
   "outputs": [],
   "source": [
    "confusion_matrix(y_test,y_pred)"
   ]
  },
  {
   "cell_type": "code",
   "execution_count": 139,
   "metadata": {
    "execution": {
     "iopub.execute_input": "2021-10-03T18:12:38.623800Z",
     "iopub.status.busy": "2021-10-03T18:12:38.623417Z",
     "iopub.status.idle": "2021-10-03T18:12:38.636856Z",
     "shell.execute_reply": "2021-10-03T18:12:38.635874Z",
     "shell.execute_reply.started": "2021-10-03T18:12:38.623762Z"
    }
   },
   "outputs": [],
   "source": [
    "print(classification_report(y_test,y_pred))"
   ]
  },
  {
   "cell_type": "code",
   "execution_count": null,
   "metadata": {},
   "outputs": [],
   "source": []
  },
  {
   "cell_type": "code",
   "execution_count": null,
   "metadata": {},
   "outputs": [],
   "source": []
  },
  {
   "cell_type": "code",
   "execution_count": null,
   "metadata": {},
   "outputs": [],
   "source": []
  },
  {
   "cell_type": "code",
   "execution_count": null,
   "metadata": {},
   "outputs": [],
   "source": []
  },
  {
   "cell_type": "code",
   "execution_count": null,
   "metadata": {},
   "outputs": [],
   "source": []
  },
  {
   "cell_type": "code",
   "execution_count": null,
   "metadata": {},
   "outputs": [],
   "source": []
  },
  {
   "cell_type": "code",
   "execution_count": null,
   "metadata": {},
   "outputs": [],
   "source": []
  },
  {
   "cell_type": "code",
   "execution_count": null,
   "metadata": {},
   "outputs": [],
   "source": []
  },
  {
   "cell_type": "code",
   "execution_count": null,
   "metadata": {},
   "outputs": [],
   "source": []
  },
  {
   "cell_type": "code",
   "execution_count": null,
   "metadata": {},
   "outputs": [],
   "source": []
  },
  {
   "cell_type": "code",
   "execution_count": null,
   "metadata": {},
   "outputs": [],
   "source": []
  }
 ],
 "metadata": {
  "kernelspec": {
   "display_name": "Python 3",
   "language": "python",
   "name": "python3"
  },
  "language_info": {
   "codemirror_mode": {
    "name": "ipython",
    "version": 3
   },
   "file_extension": ".py",
   "mimetype": "text/x-python",
   "name": "python",
   "nbconvert_exporter": "python",
   "pygments_lexer": "ipython3",
   "version": "3.8.8"
  }
 },
 "nbformat": 4,
 "nbformat_minor": 4
}
